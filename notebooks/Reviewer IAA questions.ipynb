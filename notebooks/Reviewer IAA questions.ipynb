{
 "cells": [
  {
   "cell_type": "code",
   "execution_count": null,
   "id": "85422e9d",
   "metadata": {},
   "outputs": [],
   "source": [
    "import collections\n",
    "import glob\n",
    "import json\n",
    "\n",
    "\n",
    "def get_annotator(annotation):\n",
    "    return annotation[\"metadata\"][\"anno\"]\n",
    "\n",
    "dataset_path = \"05-16-provisional-emnlp-release-unsplit/\"\n",
    "\n",
    "results = collections.defaultdict(list)\n",
    "adjudicated_reviews = []\n",
    "\n",
    "\n",
    "for filename in glob.glob(dataset_path + \"/*\"):\n",
    "    with open(filename, 'r') as f:\n",
    "        obj = json.load(f)\n",
    "    review = obj[\"metadata\"][\"review\"]\n",
    "    if get_annotator(obj) == 'anno0':\n",
    "        adjudicated_reviews.append(review)\n",
    "    results[review].append(obj)\n",
    "\n",
    "print(len(adjudicated_reviews))\n",
    "print(len(results))\n"
   ]
  },
  {
   "cell_type": "code",
   "execution_count": null,
   "id": "4f57ce82",
   "metadata": {},
   "outputs": [],
   "source": [
    "print(collections.Counter(len(i) for i in results.values()))"
   ]
  },
  {
   "cell_type": "code",
   "execution_count": null,
   "id": "4bcf7b4d",
   "metadata": {},
   "outputs": [],
   "source": [
    "review_id_map = collections.defaultdict(list)\n",
    "\n",
    "def get_split(overall_dir):\n",
    "    for split_name in \"train dev test\".split():\n",
    "        for filename in glob.glob(\"\".join([overall_dir, \"/\", split_name, \"/*.json\"])):\n",
    "            review_id_map[split_name].append(filename.split(\"/\")[-1].split(\".\")[0])\n",
    "            \n",
    "get_split(\"/Users/nnayak/Downloads/0517_split_2/\")"
   ]
  },
  {
   "cell_type": "code",
   "execution_count": null,
   "id": "c07ff0a7",
   "metadata": {},
   "outputs": [],
   "source": [
    "review_id_map"
   ]
  },
  {
   "cell_type": "code",
   "execution_count": null,
   "id": "1c357aa5",
   "metadata": {},
   "outputs": [],
   "source": [
    "adjudicated_in_test = list(rev_id for rev_id in review_id_map[\"test\"]\n",
    "                                  if rev_id in adjudicated_reviews\n",
    "                                  and len(results[rev_id]) == 3)\n",
    "total_test = len(review_id_map[\"test\"])\n"
   ]
  },
  {
   "cell_type": "code",
   "execution_count": null,
   "id": "9aa54272",
   "metadata": {},
   "outputs": [],
   "source": [
    "review_sentence_counter = 0\n",
    "rebuttal_sentence_counter = 0\n",
    "\n",
    "for adjudicated_id in adjudicated_in_test:\n",
    "    review_sentence_counter += len(results[adjudicated_id][0]['review'])\n",
    "    rebuttal_sentence_counter += len(results[adjudicated_id][0]['rebuttal'])"
   ]
  },
  {
   "cell_type": "code",
   "execution_count": null,
   "id": "d4f4b827",
   "metadata": {},
   "outputs": [],
   "source": [
    "print(\"Adjudicated in test:\", len(adjudicated_in_test))\n",
    "print(\"Total in test:\", total_test)\n",
    "print(\"Adjudicated review sentences\", review_sentence_counter)\n",
    "print(\"Adjudicated rebuttal sentences\", rebuttal_sentence_counter)"
   ]
  },
  {
   "cell_type": "code",
   "execution_count": null,
   "id": "1a4ca377",
   "metadata": {},
   "outputs": [],
   "source": []
  }
 ],
 "metadata": {
  "kernelspec": {
   "display_name": "Python 3",
   "language": "python",
   "name": "python3"
  },
  "language_info": {
   "codemirror_mode": {
    "name": "ipython",
    "version": 3
   },
   "file_extension": ".py",
   "mimetype": "text/x-python",
   "name": "python",
   "nbconvert_exporter": "python",
   "pygments_lexer": "ipython3",
   "version": "3.8.2"
  }
 },
 "nbformat": 4,
 "nbformat_minor": 5
}
