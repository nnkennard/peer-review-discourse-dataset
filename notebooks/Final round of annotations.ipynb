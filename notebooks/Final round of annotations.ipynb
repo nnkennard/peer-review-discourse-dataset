{
 "cells": [
  {
   "cell_type": "code",
   "execution_count": null,
   "id": "e18a6fff",
   "metadata": {},
   "outputs": [],
   "source": [
    "import collections\n",
    "import glob\n",
    "import json\n",
    "import openreview\n",
    "import pandas as pd\n",
    "import random\n",
    "import tqdm\n",
    "\n",
    "random.seed(37)"
   ]
  },
  {
   "cell_type": "code",
   "execution_count": null,
   "id": "9e922772",
   "metadata": {
    "scrolled": false
   },
   "outputs": [],
   "source": [
    "SUBSETS = \"train dev test\".split()\n",
    "TOTAL_REQUIRED_MAP = {\n",
    "    \"train\":1,\n",
    "    \"dev\":1,\n",
    "    \"test\":2\n",
    "}\n",
    "\n",
    "# Continuing annotators: anno3, anno10\n",
    "\n",
    "ExistingAnnotation = collections.namedtuple(\"ExistingAnnotation\",\n",
    "                                            \"subset forum_id review_id anno\".split())\n",
    "existing_annotation_dicts = []\n",
    "for subset in SUBSETS:\n",
    "    subset_dir = \"\".join([\"/Users/nnayak/Downloads/0517_split_2/\",\n",
    "                          subset, \"/*\"])\n",
    "    for filename in sorted(glob.glob(subset_dir)):\n",
    "        with open(filename, 'r') as f:\n",
    "            obj = json.load(f)\n",
    "            existing_annotation_dicts.append(\n",
    "            ExistingAnnotation(subset,obj[\"metadata\"][\"forum_id\"],\n",
    "                              obj[\"metadata\"][\"review\"],\n",
    "                              obj[\"metadata\"][\"anno\"]))\n",
    "existing_annotations = pd.DataFrame.from_dict(existing_annotation_dicts)"
   ]
  },
  {
   "cell_type": "code",
   "execution_count": null,
   "id": "e06c78bf",
   "metadata": {},
   "outputs": [],
   "source": [
    "guest_client = openreview.Client(baseurl='https://api.openreview.net')\n",
    "\n",
    "def get_new_annotator(existing_annotators):\n",
    "    if set('anno3 anno10'.split()) <= set(existing_annotators):\n",
    "        return \"ERROR\"\n",
    "    elif 'anno3' in existing_annotators:\n",
    "        return 'anno10'\n",
    "    elif 'anno10' in existing_annotators:\n",
    "        return 'anno3'\n",
    "    else:\n",
    "        return random.choice(['anno3', 'anno10'])\n",
    "    \n",
    "def get_top_level_reviews(guest_client, forum_id):\n",
    "    return set([note.id\n",
    "            for note in guest_client.get_notes(forum=forum_id)\n",
    "            if note.replyto == forum_id \n",
    "            and \"AnonReviewer\" in note.signatures[0]])\n",
    "        \n",
    "ToBeAnnotated = collections.namedtuple(\"ToBeAnnotated\",\n",
    "                                       \"subset forum_id review_id already_annotated assigned_to\".split())\n",
    "to_be_annotated_dicts = []\n",
    "for subset in SUBSETS:\n",
    "    total_required = TOTAL_REQUIRED_MAP[subset]\n",
    "    this_subset_annotations = existing_annotations[existing_annotations[\"subset\"]  == subset]\n",
    "    forum_ids = sorted(this_subset_annotations[\"forum_id\"].unique())\n",
    "    for forum_id in forum_ids:\n",
    "        this_forum_annotations = existing_annotations[\n",
    "            existing_annotations[\"forum_id\"] == forum_id]\n",
    "        new_annotator = get_new_annotator(this_forum_annotations[\"anno\"].unique())\n",
    "        reviews_annotated = this_forum_annotations[\"review_id\"].unique()\n",
    "        reviews_to_annotate = get_top_level_reviews(guest_client, forum_id) - set(reviews_annotated)\n",
    "        if subset == 'test':\n",
    "            for review in reviews_annotated:\n",
    "                if len(this_forum_annotations[this_forum_annotations[\"review_id\"] == review]) < 2:\n",
    "                    to_be_annotated_dicts.append(\n",
    "                    ToBeAnnotated(subset, forum_id, review, \"n/a\", new_annotator))\n",
    "                else:\n",
    "                    print(\"yay\")\n",
    "            for review in reviews_to_annotate:\n",
    "                if new_annotator == \"ANY\":\n",
    "                    for annotator in [\"anno3\", \"anno10\"]:\n",
    "                        to_be_annotated_dicts.append(\n",
    "                            ToBeAnnotated(subset, forum_id, review, \"n/a\", annotator))\n",
    "                else:\n",
    "                    already_annotated_by = this_forum_annotations[this_forum_annotations[\"review_id\"] == review][\"anno\"].unique()\n",
    "                    if not already_annotated_by.size:   \n",
    "                        to_be_annotated_dicts.append(\n",
    "                            ToBeAnnotated(subset, forum_id, review, \"n/a\", 'ANY'))\n",
    "                    elif already_annotated_by[0] == 'anno3':\n",
    "                        to_be_annotated_dicts.append(\n",
    "                            ToBeAnnotated(subset, forum_id, review, \"n/a\", 'anno10'))\n",
    "                    else:\n",
    "                        to_be_annotated_dicts.append(\n",
    "                            ToBeAnnotated(subset, forum_id, review, \"n/a\", 'anno3'))\n",
    "        else:\n",
    "            for review in reviews_to_annotate:\n",
    "                to_be_annotated_dicts.append(\n",
    "                    ToBeAnnotated(subset, forum_id, review, \"n/a\", new_annotator))\n",
    "                \n",
    "tba_df = pd.DataFrame.from_dict(to_be_annotated_dicts)"
   ]
  },
  {
   "cell_type": "code",
   "execution_count": null,
   "id": "2bae8457",
   "metadata": {},
   "outputs": [],
   "source": [
    "tba_df"
   ]
  },
  {
   "cell_type": "code",
   "execution_count": null,
   "id": "321dc15e",
   "metadata": {},
   "outputs": [],
   "source": [
    "REV_MAP = {\n",
    "    'anno3': 'KG',\n",
    "    'anno10': 'MAD'\n",
    "}\n",
    "\n",
    "for _, row in tba_df.iterrows():\n",
    "    if 'anno' in row[-1]:\n",
    "        anno = REV_MAP[row[-1]]\n",
    "    elif row[-1] == 'ANY':\n",
    "        anno = random.choice([\"KG\", 'MAD'])\n",
    "    else:\n",
    "        continue\n",
    "    print(row[2] + \"\\t\" + anno)"
   ]
  },
  {
   "cell_type": "code",
   "execution_count": null,
   "id": "dba90fcc",
   "metadata": {},
   "outputs": [],
   "source": []
  }
 ],
 "metadata": {
  "kernelspec": {
   "display_name": "Python 3",
   "language": "python",
   "name": "python3"
  },
  "language_info": {
   "codemirror_mode": {
    "name": "ipython",
    "version": 3
   },
   "file_extension": ".py",
   "mimetype": "text/x-python",
   "name": "python",
   "nbconvert_exporter": "python",
   "pygments_lexer": "ipython3",
   "version": "3.8.2"
  }
 },
 "nbformat": 4,
 "nbformat_minor": 5
}
