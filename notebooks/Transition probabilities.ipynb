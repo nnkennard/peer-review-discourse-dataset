{
 "cells": [
  {
   "cell_type": "code",
   "execution_count": null,
   "id": "eec9797e",
   "metadata": {},
   "outputs": [],
   "source": [
    "import collections\n",
    "import glob\n",
    "import json\n",
    "import pandas as pd\n",
    "\n",
    "import holoviews as hv\n",
    "hv.extension('bokeh')\n",
    "from bokeh.plotting import show\n",
    "\n",
    "\n",
    "\n",
    "dataset_dir = \"../data_prep/final_dataset/\"\n",
    "\n",
    "SUBSETS = \"train dev test\".split()\n",
    "\n",
    "datasets = collections.defaultdict(list)\n",
    "\n",
    "for subset in SUBSETS:\n",
    "    for filename in glob.glob(dataset_dir + subset + \"/*\"):\n",
    "        with open(filename, 'r') as f:\n",
    "            datasets[subset].append(json.load(f))"
   ]
  },
  {
   "cell_type": "code",
   "execution_count": null,
   "id": "1d485241",
   "metadata": {},
   "outputs": [],
   "source": [
    "all_pairs = sum(datasets.values(), [])\n",
    "\n",
    "mycounter = collections.defaultdict(lambda: collections.Counter())\n",
    "\n",
    "\n",
    "rebuttal_sequences = []\n",
    "\n",
    "def get_transition_probabilities(review_sentences, rebuttal_sentences):\n",
    "    rev_reb_map = collections.defaultdict(list)\n",
    "    rebuttal_sequence = []\n",
    "    for reb_sent in rebuttal_sentences:\n",
    "        if reb_sent[\"alignment\"][1] is not None:\n",
    "            for review_index in reb_sent[\"alignment\"][1]:\n",
    "                #rev_reb_map[review_index].append((reb_sent[\"coarse\"], reb_sent[\"fine\"]))\n",
    "                rev_reb_map[review_index].append(reb_sent[\"fine\"])\n",
    "                rebuttal_sequence.append(reb_sent[\"fine\"])\n",
    "    rebuttal_sequences.append(rebuttal_sequence)\n",
    "    for i, rev_sent in enumerate(review_sentences):\n",
    "        for reb_type in rev_reb_map[i]:\n",
    "            if rev_sent[\"coarse\"] == \"arg_request\":\n",
    "                mycounter[rev_sent[\"fine\"]][reb_type] += 1\n",
    "            \n",
    "        "
   ]
  },
  {
   "cell_type": "code",
   "execution_count": null,
   "id": "b3812f32",
   "metadata": {},
   "outputs": [],
   "source": [
    "for x in all_pairs:\n",
    "    if x[\"metadata\"][\"annotator\"] == \"anno0\":\n",
    "        get_transition_probabilities(x[\"review_sentences\"], x[\"rebuttal_sentences\"])\n",
    "    \n",
    "for_df = []\n",
    "for rev_type, reb_types in mycounter.items():\n",
    "    for reb_type, count in reb_types.items():\n",
    "        if count > 3:\n",
    "            for_df.append(\n",
    "            {\n",
    "                \"rev_type\": rev_type,\n",
    "                \"reb_type\": reb_type,\n",
    "                \"count\": count\n",
    "            })\n",
    "sankey_df = pd.DataFrame.from_dict(for_df)"
   ]
  },
  {
   "cell_type": "code",
   "execution_count": null,
   "id": "d24a3b20",
   "metadata": {},
   "outputs": [],
   "source": [
    "sankey_df"
   ]
  },
  {
   "cell_type": "code",
   "execution_count": null,
   "id": "4ccdc7e9",
   "metadata": {},
   "outputs": [],
   "source": [
    "sankey2 = hv.Sankey(sankey_df,kdims=[\"rev_type\", \"reb_type\"], vdims=[\"count\"])\n",
    "\n",
    "sankey2.opts(cmap=\"PuBuGn_r\",label_position='outer',\n",
    "                                 edge_color='rev_type', edge_line_width=0,\n",
    "                                 node_alpha=1.0, node_width=40, node_sort=False,\n",
    "                                 width=800, height=1200, bgcolor=\"snow\",\n",
    "                                 title=\"How many covid-19 vaccines has each manufacturer sold\")\n",
    "\n",
    "show (hv.render(sankey2))"
   ]
  },
  {
   "cell_type": "code",
   "execution_count": null,
   "id": "b4140bcb",
   "metadata": {},
   "outputs": [],
   "source": [
    "def collapse_sequence(sequence):\n",
    "    if not sequence:\n",
    "        return tuple()\n",
    "    collapsed_sequence = [sequence[0]]\n",
    "    for label in sequence[1:]:\n",
    "        if label == collapsed_sequence[-1]:\n",
    "            continue\n",
    "        else:\n",
    "            collapsed_sequence.append(label)\n",
    "    return tuple(collapsed_sequence)\n",
    "reb_seq_counter = collections.Counter()\n",
    "for seq in rebuttal_sequences:\n",
    "    reb_seq_counter[collapse_sequence(seq)] += 1\n",
    "    \n",
    "print(sum(reb_seq_counter.values())/len(reb_seq_counter))"
   ]
  },
  {
   "cell_type": "code",
   "execution_count": null,
   "id": "b551d149",
   "metadata": {},
   "outputs": [],
   "source": []
  },
  {
   "cell_type": "code",
   "execution_count": null,
   "id": "a7c42442",
   "metadata": {},
   "outputs": [],
   "source": []
  }
 ],
 "metadata": {
  "kernelspec": {
   "display_name": "Python 3",
   "language": "python",
   "name": "python3"
  },
  "language_info": {
   "codemirror_mode": {
    "name": "ipython",
    "version": 3
   },
   "file_extension": ".py",
   "mimetype": "text/x-python",
   "name": "python",
   "nbconvert_exporter": "python",
   "pygments_lexer": "ipython3",
   "version": "3.8.2"
  }
 },
 "nbformat": 4,
 "nbformat_minor": 5
}
