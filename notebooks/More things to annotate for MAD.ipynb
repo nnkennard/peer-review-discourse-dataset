{
 "cells": [
  {
   "cell_type": "code",
   "execution_count": null,
   "id": "54cb73ae",
   "metadata": {},
   "outputs": [],
   "source": [
    "import collections\n",
    "import glob\n",
    "import json\n",
    "import pandas as pd\n",
    "\n",
    "dataset_dir = \"../data_prep/final_dataset/\"\n",
    "\n",
    "SUBSETS = \"train dev test\".split()\n",
    "\n",
    "datasets = collections.defaultdict(list)\n",
    "\n",
    "for subset in SUBSETS:\n",
    "    for filename in glob.glob(dataset_dir + subset + \"/*\"):\n",
    "        with open(filename, 'r') as f:\n",
    "            datasets[subset].append(json.load(f))"
   ]
  },
  {
   "cell_type": "markdown",
   "id": "81a3a65a",
   "metadata": {},
   "source": [
    "# Overall statistics of the dataset"
   ]
  },
  {
   "cell_type": "code",
   "execution_count": null,
   "id": "5d938acc",
   "metadata": {},
   "outputs": [],
   "source": [
    "def count_dataset(pairs, subset):\n",
    "    # TODO: Add double-annotated and adjudicated\n",
    "    return {\n",
    "        \"subset\":subset,\n",
    "        \"pairs\": len(pairs),\n",
    "        \"forums\": len(set(pair[\"metadata\"][\"forum_id\"] for pair in pairs)),\n",
    "        \"adjudicated\": len([pair for pair in pairs if pair[\"metadata\"][\"annotator\"] == \"anno0\"]),\n",
    "        \"review_sentences\": len(sum([pair[\"review_sentences\"] for pair in pairs], [])),\n",
    "        \"rebuttal_sentences\": len(sum([pair[\"rebuttal_sentences\"] for pair in pairs], [])),\n",
    "    }\n",
    "# Distribution of examples over sets\n",
    "df_dicts = [count_dataset(pairs, subset) for subset, pairs in datasets.items()]\n",
    "pd.DataFrame.from_dict(df_dicts).transpose()"
   ]
  },
  {
   "cell_type": "markdown",
   "id": "b1055d72",
   "metadata": {},
   "source": [
    "# Distribution over types"
   ]
  },
  {
   "cell_type": "code",
   "execution_count": null,
   "id": "0641e49c",
   "metadata": {},
   "outputs": [],
   "source": [
    "# def review_getter(obj):\n",
    "#     my_counter = collections.Counter()\n",
    "#     for sent in obj[\"reviewlabels\"]:\n",
    "#         my_counter[sent[\"labels\"][\"coarse\"]] += 1\n",
    "#         my_counter[sent[\"labels\"][\"fine\"]] += 1\n",
    "#         if sent[\"labels\"][\"asp\"]:\n",
    "#             my_counter[sent[\"labels\"][\"asp\"]] += 1\n",
    "#     return my_counter\n",
    "\n",
    "    "
   ]
  },
  {
   "cell_type": "code",
   "execution_count": null,
   "id": "e35a347c",
   "metadata": {},
   "outputs": [],
   "source": [
    "with open('../final_data_dump/orda_annotations_0516.json', 'r') as f:\n",
    "    p = json.load(f)\n",
    "    \n",
    "review_set = set()\n",
    "for i in p[\"reviewsentenceannotation\"]:\n",
    "    if i[\"fields\"][\"initials\"] == \"TJO\":\n",
    "        review_set.add(i[\"fields\"][\"review_id\"])"
   ]
  },
  {
   "cell_type": "code",
   "execution_count": null,
   "id": "c5a8ce9d",
   "metadata": {},
   "outputs": [],
   "source": [
    "len(review_set)"
   ]
  },
  {
   "cell_type": "code",
   "execution_count": null,
   "id": "4a3f1874",
   "metadata": {},
   "outputs": [],
   "source": [
    "forum_map = collections.defaultdict(lambda:collections.defaultdict(set))\n",
    "\n",
    "for subset, pairs in datasets.items():\n",
    "    for pair in pairs:\n",
    "        forum_map[subset][pair[\"metadata\"][\"forum_id\"]].add(pair[\"metadata\"][\"review_id\"])"
   ]
  },
  {
   "cell_type": "code",
   "execution_count": null,
   "id": "949d8836",
   "metadata": {},
   "outputs": [],
   "source": [
    "import openreview\n",
    "guest_client = openreview.Client(baseurl='https://api.openreview.net')\n",
    "def get_total_reviews(forum_id):\n",
    "    return set([note.id\n",
    "            for note in guest_client.get_notes(forum=forum_id)\n",
    "            if note.replyto == forum_id \n",
    "            and \"AnonReviewer\" in note.signatures[0]])\n",
    "\n",
    "\n",
    "for forum_id, review_ids in forum_map[\"train\"].items():\n",
    "    total_reviews = get_total_reviews(forum_id)\n",
    "    diff = total_reviews - review_ids\n",
    "    for i in diff:\n",
    "        print(i, \"MAD\")"
   ]
  },
  {
   "cell_type": "code",
   "execution_count": null,
   "id": "c17b0d2a",
   "metadata": {},
   "outputs": [],
   "source": []
  }
 ],
 "metadata": {
  "kernelspec": {
   "display_name": "Python 3",
   "language": "python",
   "name": "python3"
  },
  "language_info": {
   "codemirror_mode": {
    "name": "ipython",
    "version": 3
   },
   "file_extension": ".py",
   "mimetype": "text/x-python",
   "name": "python",
   "nbconvert_exporter": "python",
   "pygments_lexer": "ipython3",
   "version": "3.8.2"
  }
 },
 "nbformat": 4,
 "nbformat_minor": 5
}
